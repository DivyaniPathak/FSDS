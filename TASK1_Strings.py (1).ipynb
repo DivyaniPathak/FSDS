{
 "cells": [
  {
   "cell_type": "code",
   "execution_count": 8,
   "id": "ddfb802f",
   "metadata": {},
   "outputs": [],
   "source": [
    " s = \"this is My First Python programming class and i am learNING python string and its function\"\n"
   ]
  },
  {
   "cell_type": "code",
   "execution_count": 14,
   "id": "c51ecfed",
   "metadata": {},
   "outputs": [
    {
     "data": {
      "text/plain": [
       "'tssyityopgmncsa alrNph rgni ni'"
      ]
     },
     "execution_count": 14,
     "metadata": {},
     "output_type": "execute_result"
    }
   ],
   "source": [
    "# 1 . Try to extract data from index one to index 300 with a jump of 3\n",
    "s[0:300:3]"
   ]
  },
  {
   "cell_type": "code",
   "execution_count": 16,
   "id": "995295f1",
   "metadata": {},
   "outputs": [
    {
     "data": {
      "text/plain": [
       "'noitcnuf sti dna gnirts nohtyp GNINrael ma i dna ssalc gnimmargorp nohtyP tsriF yM si siht'"
      ]
     },
     "execution_count": 16,
     "metadata": {},
     "output_type": "execute_result"
    }
   ],
   "source": [
    "# 2. Try to reverse a string without using reverse function\n",
    "s[::-1]"
   ]
  },
  {
   "cell_type": "code",
   "execution_count": 17,
   "id": "3f4272b1",
   "metadata": {},
   "outputs": [
    {
     "data": {
      "text/plain": [
       "'noitcnuf sti dna gnirts nohtyp GNINrael ma i dna ssalc gnimmargorp nohtyP tsriF yM si siht'"
      ]
     },
     "execution_count": 17,
     "metadata": {},
     "output_type": "execute_result"
    }
   ],
   "source": [
    "# 2. Try to reverse a string without using reverse function\n",
    "s[-1::-1]"
   ]
  },
  {
   "cell_type": "code",
   "execution_count": 21,
   "id": "6bf3b577",
   "metadata": {},
   "outputs": [
    {
     "data": {
      "text/plain": [
       "['THIS',\n",
       " 'IS',\n",
       " 'MY',\n",
       " 'FIRST',\n",
       " 'PYTHON',\n",
       " 'PROGRAMMING',\n",
       " 'CLASS',\n",
       " 'AND',\n",
       " 'I',\n",
       " 'AM',\n",
       " 'LEARNING',\n",
       " 'PYTHON',\n",
       " 'STRING',\n",
       " 'AND',\n",
       " 'ITS',\n",
       " 'FUNCTION']"
      ]
     },
     "execution_count": 21,
     "metadata": {},
     "output_type": "execute_result"
    }
   ],
   "source": [
    "# 3. Try to split a string after conversion of entire string in uppercase\n",
    "s1=s.upper()\n",
    "s1.split(\" \")"
   ]
  },
  {
   "cell_type": "code",
   "execution_count": 23,
   "id": "468b2ad8",
   "metadata": {},
   "outputs": [
    {
     "data": {
      "text/plain": [
       "'this is my first python programming class and i am learning python string and its function'"
      ]
     },
     "execution_count": 23,
     "metadata": {},
     "output_type": "execute_result"
    }
   ],
   "source": [
    "# 4. try to convert the whole string into lower case\n",
    "s.lower()"
   ]
  },
  {
   "cell_type": "code",
   "execution_count": 25,
   "id": "eee98e61",
   "metadata": {},
   "outputs": [
    {
     "data": {
      "text/plain": [
       "'This is my first python programming class and i am learning python string and its function'"
      ]
     },
     "execution_count": 25,
     "metadata": {},
     "output_type": "execute_result"
    }
   ],
   "source": [
    "# 5 . Try to capitalize the whole string\n",
    "s.capitalize()"
   ]
  },
  {
   "cell_type": "raw",
   "id": "b5718cf5",
   "metadata": {},
   "source": [
    "# 6 . Write a diference between isalnum() and isalpha()\n",
    "The isalpha() method returns True if all the characters are alphabet letters (a-z)\n",
    "The isalnum() method returns True if all characters in the string are alphanumeric (either alphabets or numbers).\n",
    "note: space is not alphabet letter or not a number\n",
    "\n",
    "s.isalnum() return false -> as it has alphabet character but including space.\n",
    "s.isalpha() return false -> as it has alphabet character but including space."
   ]
  },
  {
   "cell_type": "code",
   "execution_count": 36,
   "id": "e639ddca",
   "metadata": {},
   "outputs": [
    {
     "data": {
      "text/plain": [
       "'hello How   are   you'"
      ]
     },
     "execution_count": 36,
     "metadata": {},
     "output_type": "execute_result"
    }
   ],
   "source": [
    "# 7. Try to give an example of expand tab\n",
    "s3= \"hello\\tHow\\tare\\tyou\"\n",
    "s3.expandtabs(3)\n"
   ]
  },
  {
   "cell_type": "code",
   "execution_count": 40,
   "id": "04fefe9a",
   "metadata": {},
   "outputs": [
    {
     "data": {
      "text/plain": [
       "'     Shruti'"
      ]
     },
     "execution_count": 40,
     "metadata": {},
     "output_type": "execute_result"
    }
   ],
   "source": [
    "# 8 . Give an example of strip , lstrip and rstrip\n",
    "s4 = \"     Shruti    \"\n",
    "s4.strip()\n",
    "s4.lstrip()\n",
    "s4.rstrip()"
   ]
  },
  {
   "cell_type": "code",
   "execution_count": 41,
   "id": "cae5365a",
   "metadata": {},
   "outputs": [
    {
     "data": {
      "text/plain": [
       "'Hello Divyani'"
      ]
     },
     "execution_count": 41,
     "metadata": {},
     "output_type": "execute_result"
    }
   ],
   "source": [
    "# 9. Replace a string charecter by another charector by taking your own example\n",
    "s5=\"Hello Shruti\"\n",
    "s5.replace(\"Shruti\",\"Divyani\")"
   ]
  }
 ],
 "metadata": {
  "kernelspec": {
   "display_name": "Python 3 (ipykernel)",
   "language": "python",
   "name": "python3"
  },
  "language_info": {
   "codemirror_mode": {
    "name": "ipython",
    "version": 3
   },
   "file_extension": ".py",
   "mimetype": "text/x-python",
   "name": "python",
   "nbconvert_exporter": "python",
   "pygments_lexer": "ipython3",
   "version": "3.9.7"
  }
 },
 "nbformat": 4,
 "nbformat_minor": 5
}
