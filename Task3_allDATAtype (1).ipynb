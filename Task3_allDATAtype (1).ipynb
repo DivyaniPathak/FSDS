{
 "cells": [
  {
   "cell_type": "code",
   "execution_count": 2,
   "id": "1be1c161",
   "metadata": {},
   "outputs": [],
   "source": [
    " l =[[1,2,3,4], (2,3,4,5,6), (3,4,5,6,7), set([23,4,5,45,4,4,5,45,45,4,5]),{'k1' : \"sudh\" , 'k2' : \"ineuron\", 'k3' : \"kumar\", 3:6, 7:8}, [\"ineuron\", \"data science\"]]"
   ]
  },
  {
   "cell_type": "code",
   "execution_count": 4,
   "id": "7d60e3b4",
   "metadata": {},
   "outputs": [
    {
     "data": {
      "text/plain": [
       "[[1, 2, 3, 4],\n",
       " (2, 3, 4, 5, 6),\n",
       " (3, 4, 5, 6, 7),\n",
       " {4, 5, 23, 45},\n",
       " {'k1': 'sudh', 'k2': 'ineuron', 'k3': 'kumar', 3: 6, 7: 8},\n",
       " ['ineuron', 'data science']]"
      ]
     },
     "execution_count": 4,
     "metadata": {},
     "output_type": "execute_result"
    }
   ],
   "source": [
    "l"
   ]
  },
  {
   "cell_type": "code",
   "execution_count": 7,
   "id": "eaf74540",
   "metadata": {},
   "outputs": [
    {
     "name": "stdout",
     "output_type": "stream",
     "text": [
      "[[1, 2, 3, 4], ['ineuron', 'data science']]\n"
     ]
    }
   ],
   "source": [
    "# q.3) Try to extract all the list entity.\n",
    "l_newlist=[]\n",
    "for i in l:\n",
    "    if type(i)==list:\n",
    "        l_newlist.append(i)\n",
    "print(l_newlist)"
   ]
  },
  {
   "cell_type": "code",
   "execution_count": 9,
   "id": "97385be1",
   "metadata": {},
   "outputs": [
    {
     "name": "stdout",
     "output_type": "stream",
     "text": [
      "[{'k1': 'sudh', 'k2': 'ineuron', 'k3': 'kumar', 3: 6, 7: 8}]\n"
     ]
    }
   ],
   "source": [
    "# q.4) Try to extract all the dict entity.\n",
    "l_newdict=[]\n",
    "for i in l:\n",
    "    if type(i)==dict:\n",
    "        l_newdict.append(i)\n",
    "print(l_newdict)"
   ]
  },
  {
   "cell_type": "code",
   "execution_count": 12,
   "id": "28ae71fd",
   "metadata": {},
   "outputs": [
    {
     "name": "stdout",
     "output_type": "stream",
     "text": [
      "[(2, 3, 4, 5, 6), (3, 4, 5, 6, 7)]\n"
     ]
    }
   ],
   "source": [
    "# q.5) Try to extract all the Tuples entity.\n",
    "l_newtupple=[]\n",
    "for i in l:\n",
    "    if type(i)==tuple:\n",
    "        l_newtupple.append(i)\n",
    "print(l_newtupple)"
   ]
  },
  {
   "cell_type": "code",
   "execution_count": 15,
   "id": "193d5a77",
   "metadata": {},
   "outputs": [
    {
     "name": "stdout",
     "output_type": "stream",
     "text": [
      "[[1, 2, 3, 4], (2, 3, 4, 5, 6), (3, 4, 5, 6, 7), {45, 4, 5, 23}, {'k1': 'sudh', 'k2': 'ineuron', 'k3': 'kumar', 3: 6, 7: 8}, ['ineuron', 'data science']]\n",
      "[1, 2, 3, 4, 2, 3, 4, 5, 6, 3, 4, 5, 6, 7, 45, 4, 5, 23, 3, 6, 7, 8]\n"
     ]
    }
   ],
   "source": [
    "# q.6) Try to extract all the Numeric data it may be a part of dict key and values.\n",
    "numeric_data=[]\n",
    "for i in l:\n",
    "    if type(i)==list or type(i)==tuple or type(i)==set:\n",
    "        for var in i:\n",
    "            if type(var)==int:\n",
    "                numeric_data.append(var)\n",
    "    elif type(i)==dict:\n",
    "        for k,v in i.items():\n",
    "            if type(k)==int:\n",
    "                numeric_data.append(k)\n",
    "            if type(v)==int:\n",
    "                numeric_data.append(v)\n",
    "    elif type(i)==int:\n",
    "        numeric_data.append(i)\n",
    "\n",
    "print(l)\n",
    "print(numeric_data)\n",
    "                "
   ]
  },
  {
   "cell_type": "code",
   "execution_count": 18,
   "id": "4b84d703",
   "metadata": {},
   "outputs": [
    {
     "name": "stdout",
     "output_type": "stream",
     "text": [
      "156\n"
     ]
    }
   ],
   "source": [
    "# q.7) Try to give summation of all the numeric data.\n",
    "sum_data=0\n",
    "for i in numeric_data:\n",
    "    sum_data=sum_data+i\n",
    "print(sum_data)"
   ]
  },
  {
   "cell_type": "code",
   "execution_count": 25,
   "id": "de62aeb3",
   "metadata": {},
   "outputs": [
    {
     "name": "stdout",
     "output_type": "stream",
     "text": [
      "[1, 3]\n"
     ]
    }
   ],
   "source": [
    "# q.8) Try to filter out all the odd values out all numeric datawhich is a part of a list.\n",
    "odd_data=[]\n",
    "for i in l:\n",
    "    if type(i)==list:\n",
    "        for j in i:\n",
    "            if type(j)==int:\n",
    "                if j%2 !=0:\n",
    "                    odd_data.append(j)\n",
    "\n",
    "print(odd_data)\n",
    "                \n",
    "            "
   ]
  },
  {
   "cell_type": "code",
   "execution_count": 29,
   "id": "72aba0c3",
   "metadata": {},
   "outputs": [
    {
     "name": "stdout",
     "output_type": "stream",
     "text": [
      "['ineuron', 'ineuron']\n"
     ]
    }
   ],
   "source": [
    "# q.9) Try to extract \"ineuron\" out of this dataset.\n",
    "str_data=[]\n",
    "for i in l:\n",
    "    if type(i)==list or type(i)==tuple:\n",
    "        for var in i:\n",
    "            if type(var)==str:\n",
    "                if var==\"ineuron\":\n",
    "                    str_data.append(var)\n",
    "    elif type(i)==dict:\n",
    "        for k,v in i.items():\n",
    "            if type(k)==str:\n",
    "                if k==\"inueron\":\n",
    "                    str_data.append(k)\n",
    "                if type(v)==str:\n",
    "                    if v==\"ineuron\":\n",
    "                        str_data.append(v)\n",
    "    elif type(i)==str:\n",
    "        if i==\"ineuron\":\n",
    "            str_data.append('i')\n",
    "\n",
    "print(str_data)"
   ]
  },
  {
   "cell_type": "code",
   "execution_count": 36,
   "id": "a41dcdf4",
   "metadata": {},
   "outputs": [
    {
     "name": "stdout",
     "output_type": "stream",
     "text": [
      "[1, 2, 3, 4, 2, 3, 4, 5, 6, 3, 4, 5, 6, 7, 45, 4, 5, 23, 'k1', 'sudh', 'k2', 'ineuron', 'k3', 'kumar', 3, 6, 7, 8, 'ineuron', 'data science']\n",
      "1 1\n",
      "2 2\n",
      "3 4\n",
      "4 4\n",
      "5 3\n",
      "6 3\n",
      "7 2\n",
      "kumar 1\n",
      "8 1\n",
      "45 1\n",
      "k1 1\n",
      "k3 1\n",
      "ineuron 2\n",
      "data science 1\n",
      "k2 1\n",
      "23 1\n",
      "sudh 1\n"
     ]
    }
   ],
   "source": [
    "# q.10) Try to find out a number of occurance of all the data.\n",
    "oct_data=[]\n",
    "for i in l:\n",
    "    if type(i)==list or type(i)==set or type(i)==tuple:\n",
    "        for var in i:\n",
    "            oct_data.append(var)\n",
    "    if type(i)==dict:\n",
    "        for k,v in i.items():\n",
    "            oct_data.append(k)\n",
    "            oct_data.append(v)\n",
    "    if type(i)==int or type(i)==str:\n",
    "        oct_data.append(i)\n",
    "print(oct_data)\n",
    "\n",
    "for m in set(oct_data):\n",
    "    print(m,oct_data.count(m))\n"
   ]
  },
  {
   "cell_type": "code",
   "execution_count": 38,
   "id": "6867e7c9",
   "metadata": {},
   "outputs": [
    {
     "name": "stdout",
     "output_type": "stream",
     "text": [
      "5\n"
     ]
    }
   ],
   "source": [
    "# q.11) Try to find out a number of keys in dict element.\n",
    "no_keys=[]\n",
    "for i in l:\n",
    "    if type(i)==dict:\n",
    "        for k in i.keys():\n",
    "            no_keys.append(k)\n",
    "print(len(no_keys))"
   ]
  },
  {
   "cell_type": "code",
   "execution_count": 43,
   "id": "05ca7cea",
   "metadata": {},
   "outputs": [
    {
     "name": "stdout",
     "output_type": "stream",
     "text": [
      "['k1', 'sudh', 'k2', 'ineuron', 'k3', 'kumar', 'ineuron', 'data science']\n"
     ]
    }
   ],
   "source": [
    "# q.12) Try to filter out all the string data.\n",
    "\n",
    "str_data=[]\n",
    "for i in l:\n",
    "    if type(i)==list or type(i)==set or type(i)==tuple:\n",
    "        for var in i:\n",
    "            if type(var)==str:\n",
    "                str_data.append(var)\n",
    "    elif type(i)==dict:\n",
    "        for k,v in i.items():\n",
    "            if type(k)==str:\n",
    "                str_data.append(k)\n",
    "            if type(v)==str:\n",
    "                str_data.append(v)\n",
    "    elif type(i)==str:\n",
    "        str_data.append(i)\n",
    "\n",
    "print(str_data)\n",
    "                "
   ]
  },
  {
   "cell_type": "code",
   "execution_count": 45,
   "id": "b273d6fe",
   "metadata": {},
   "outputs": [
    {
     "name": "stdout",
     "output_type": "stream",
     "text": [
      "908605071360000\n"
     ]
    }
   ],
   "source": [
    "# q.14) Try to find out multiplication of all numeric value in the individual collection inside dataset.\n",
    "mul_data=1\n",
    "for i in l:\n",
    "    if type(i)==list or type(i)==set or type(i)==tuple:\n",
    "        for var in i:\n",
    "            if type(var)==int:\n",
    "                mul_data=mul_data*var\n",
    "    elif type(i)==dict:\n",
    "        for k,v in i.items():\n",
    "            if type(k)==int:\n",
    "                mul_data=mul_data*k\n",
    "            if type(v)==int:\n",
    "                mul_data=mul_data*v\n",
    "    elif type(i)==int:\n",
    "        mul_data=mul_data*i\n",
    "\n",
    "print(mul_data)\n",
    "                \n"
   ]
  },
  {
   "cell_type": "code",
   "execution_count": 53,
   "id": "460da318",
   "metadata": {},
   "outputs": [
    {
     "name": "stdout",
     "output_type": "stream",
     "text": [
      "[1, 2, 3, 4, 2, 3, 4, 5, 6, 3, 4, 5, 6, 7, 45, 4, 5, 23, 'k', '1', 'k', '2', 'k', '3', 6, 8, 'i', 'n', 'e', 'u', 'r', 'o', 'n', 'd', 'a', 't', 'a', ' ', 's', 'c', 'i', 'e', 'n', 'c', 'e']\n"
     ]
    }
   ],
   "source": [
    "#q.15) Try to unwrape all the collection inside collection and create a flat list.\n",
    "flatlist_data=[]\n",
    "for i in l:\n",
    "    if type(i)==list or type(i)==set or type(i)==tuple:\n",
    "        for var in i:\n",
    "            if type(var)==str:\n",
    "                flatlist_data.extend(var)\n",
    "            if type(var)==int:\n",
    "                flatlist_data.append(var)\n",
    "    if type(i)==dict:\n",
    "        for k,v in i.items():\n",
    "            if type(k)==str:\n",
    "                flatlist_data.extend(k)\n",
    "            if type(k)==int:\n",
    "                flatlist_data.append(k)\n",
    "                \n",
    "            if type(v)==int:\n",
    "                flatlist_data.append(v)\n",
    "            if type(k)==str:\n",
    "                flatlist_data.extend(k)\n",
    "            \n",
    "                \n",
    "    if type(i)==int:\n",
    "        flatlist_data.append(i)\n",
    "    if type(i)==str:\n",
    "        flatlist_data.extend(i)\n",
    "print(flatlist_data)"
   ]
  }
 ],
 "metadata": {
  "kernelspec": {
   "display_name": "Python 3 (ipykernel)",
   "language": "python",
   "name": "python3"
  },
  "language_info": {
   "codemirror_mode": {
    "name": "ipython",
    "version": 3
   },
   "file_extension": ".py",
   "mimetype": "text/x-python",
   "name": "python",
   "nbconvert_exporter": "python",
   "pygments_lexer": "ipython3",
   "version": "3.9.7"
  }
 },
 "nbformat": 4,
 "nbformat_minor": 5
}
